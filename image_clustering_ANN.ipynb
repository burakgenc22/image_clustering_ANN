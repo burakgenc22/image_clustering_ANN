{
  "nbformat": 4,
  "nbformat_minor": 0,
  "metadata": {
    "colab": {
      "provenance": []
    },
    "kernelspec": {
      "name": "python3",
      "display_name": "Python 3"
    },
    "language_info": {
      "name": "python"
    }
  },
  "cells": [
    {
      "cell_type": "markdown",
      "source": [
        "# Kütüphane İmportları"
      ],
      "metadata": {
        "id": "smry1k-EcW6z"
      }
    },
    {
      "cell_type": "code",
      "execution_count": 1,
      "metadata": {
        "id": "mAzT-ZqdbeMl"
      },
      "outputs": [],
      "source": [
        "import tensorflow as tf\n",
        "from tensorflow.keras.datasets import mnist\n",
        "from tensorflow.keras.models import load_model, Sequential\n",
        "from tensorflow.keras.layers import Dense, Flatten\n",
        "from tensorflow.keras.utils import to_categorical, plot_model\n",
        "import matplotlib.pyplot as plt\n",
        "import numpy as np\n",
        "\n",
        "import warnings\n",
        "from warnings import filterwarnings\n",
        "warnings.filterwarnings(\"ignore\", category=DeprecationWarning)\n",
        "warnings.filterwarnings(\"ignore\", category=FutureWarning)\n",
        "warnings.filterwarnings(\"ignore\", category=UserWarning)\n",
        "filterwarnings(\"ignore\")"
      ]
    },
    {
      "cell_type": "markdown",
      "source": [
        "# Veri Setini Anlamak"
      ],
      "metadata": {
        "id": "O345IAZGcc6Q"
      }
    },
    {
      "cell_type": "code",
      "source": [
        "(x_train, y_train), (x_test, y_test) = mnist.load_data()"
      ],
      "metadata": {
        "colab": {
          "base_uri": "https://localhost:8080/"
        },
        "id": "M9mFvXipbo5n",
        "outputId": "de1080c2-5c2f-4cd1-87d2-69f73fb215e1"
      },
      "execution_count": 2,
      "outputs": [
        {
          "output_type": "stream",
          "name": "stdout",
          "text": [
            "Downloading data from https://storage.googleapis.com/tensorflow/tf-keras-datasets/mnist.npz\n",
            "11490434/11490434 [==============================] - 0s 0us/step\n"
          ]
        }
      ]
    },
    {
      "cell_type": "code",
      "source": [
        "print(\"eğitim setinin boyutu : \", x_train.shape, y_train.shape)\n",
        "print(\"test setinin boyutu : \" , x_test.shape, y_train.shape)"
      ],
      "metadata": {
        "colab": {
          "base_uri": "https://localhost:8080/"
        },
        "id": "Jrxhbz4Jbo25",
        "outputId": "169fc13a-7d38-4b7e-e686-fb623fe470f0"
      },
      "execution_count": 5,
      "outputs": [
        {
          "output_type": "stream",
          "name": "stdout",
          "text": [
            "eğitim setinin boyutu :  (60000, 28, 28) (60000,)\n",
            "test setinin boyutu :  (10000, 28, 28) (60000,)\n"
          ]
        }
      ]
    },
    {
      "cell_type": "code",
      "source": [
        "num_labels = len(np.unique(y_train))\n",
        "print(num_labels)"
      ],
      "metadata": {
        "colab": {
          "base_uri": "https://localhost:8080/"
        },
        "id": "NvpgiLafbo0B",
        "outputId": "476191a7-fc8c-44cd-8720-515e2099efa7"
      },
      "execution_count": 6,
      "outputs": [
        {
          "output_type": "stream",
          "name": "stdout",
          "text": [
            "10\n"
          ]
        }
      ]
    },
    {
      "cell_type": "code",
      "source": [
        "#veri setinden örnek getirilmesi\n",
        "plt.figure(figsize=(10, 10))\n",
        "plt.imshow(x_train[150], cmap=\"gray\");"
      ],
      "metadata": {
        "colab": {
          "base_uri": "https://localhost:8080/",
          "height": 830
        },
        "id": "8kbGhEr7bow6",
        "outputId": "595296f3-03cb-43c5-9571-97445d86a9e0"
      },
      "execution_count": 7,
      "outputs": [
        {
          "output_type": "display_data",
          "data": {
            "text/plain": [
              "<Figure size 1000x1000 with 1 Axes>"
            ],
            "image/png": "[encoded data removed]"
          },
          "metadata": {}
        }
      ]
    },
    {
      "cell_type": "code",
      "source": [
        "#train veri seti içerisinden 10 tane örnek getirilmesi\n",
        "plt.figure(figsize=(10,10))\n",
        "for n in range(10):\n",
        "  ax = plt.subplot(5,5,n+1)\n",
        "  plt.imshow(x_train[n], cmap=\"gray\")\n",
        "  plt.axis(\"off\")"
      ],
      "metadata": {
        "colab": {
          "base_uri": "https://localhost:8080/",
          "height": 329
        },
        "id": "Z-02z9nobouD",
        "outputId": "f4825c60-7eaa-4e27-f934-45d9967c7316"
      },
      "execution_count": 10,
      "outputs": [
        {
          "output_type": "display_data",
          "data": {
            "text/plain": [
              "<Figure size 1000x1000 with 10 Axes>"
            ],
            "image/png": "[encoded data removed]"
          },
          "metadata": {}
        }
      ]
    },
    {
      "cell_type": "code",
      "source": [
        "#Görsellerde yer alan belirli piksellerin rgb değerine erişmek\n",
        "x_train[150][15,7]"
      ],
      "metadata": {
        "colab": {
          "base_uri": "https://localhost:8080/"
        },
        "id": "gOXEG6IAborT",
        "outputId": "28cde01b-5c4b-475b-ec88-8e7fd3e10292"
      },
      "execution_count": 13,
      "outputs": [
        {
          "output_type": "execute_result",
          "data": {
            "text/plain": [
              "254"
            ]
          },
          "metadata": {},
          "execution_count": 13
        }
      ]
    },
    {
      "cell_type": "code",
      "source": [
        "x_train[150][10, 3]"
      ],
      "metadata": {
        "colab": {
          "base_uri": "https://localhost:8080/"
        },
        "id": "lkPXXwHQbooV",
        "outputId": "3e5d00a8-201a-4f5e-9fd9-9b977c297ab7"
      },
      "execution_count": 14,
      "outputs": [
        {
          "output_type": "execute_result",
          "data": {
            "text/plain": [
              "0"
            ]
          },
          "metadata": {},
          "execution_count": 14
        }
      ]
    },
    {
      "cell_type": "code",
      "source": [
        "x_train[150].mean()"
      ],
      "metadata": {
        "colab": {
          "base_uri": "https://localhost:8080/"
        },
        "id": "DdxbBg6QbolR",
        "outputId": "857a1b26-1247-4f2b-b13c-a42861579a12"
      },
      "execution_count": 15,
      "outputs": [
        {
          "output_type": "execute_result",
          "data": {
            "text/plain": [
              "33.704081632653065"
            ]
          },
          "metadata": {},
          "execution_count": 15
        }
      ]
    },
    {
      "cell_type": "markdown",
      "source": [
        "# Veriyi Hazırlama\n",
        "\n",
        "\n"
      ],
      "metadata": {
        "id": "--4gqg88fwHM"
      }
    },
    {
      "cell_type": "markdown",
      "source": [
        "## Encoding İşlemi"
      ],
      "metadata": {
        "id": "wdI0EOAVf0Bq"
      }
    },
    {
      "cell_type": "code",
      "source": [
        "y_train[0:10]"
      ],
      "metadata": {
        "colab": {
          "base_uri": "https://localhost:8080/"
        },
        "id": "-7AMaJlwboiL",
        "outputId": "523b5fe4-7f63-4f2c-86d4-ef1699db197f"
      },
      "execution_count": 16,
      "outputs": [
        {
          "output_type": "execute_result",
          "data": {
            "text/plain": [
              "array([5, 0, 4, 1, 9, 2, 1, 3, 1, 4], dtype=uint8)"
            ]
          },
          "metadata": {},
          "execution_count": 16
        }
      ]
    },
    {
      "cell_type": "code",
      "source": [
        "y_train = to_categorical(y_train)\n",
        "y_test = to_categorical(y_test)"
      ],
      "metadata": {
        "id": "fN4UxKz9bofN"
      },
      "execution_count": 17,
      "outputs": []
    },
    {
      "cell_type": "code",
      "source": [
        "y_train[0:10]"
      ],
      "metadata": {
        "colab": {
          "base_uri": "https://localhost:8080/"
        },
        "id": "90f8iPCIbocN",
        "outputId": "22fd9ce4-7b7b-44e0-ae81-5b4debc40a6c"
      },
      "execution_count": 18,
      "outputs": [
        {
          "output_type": "execute_result",
          "data": {
            "text/plain": [
              "array([[0., 0., 0., 0., 0., 1., 0., 0., 0., 0.],\n",
              "       [1., 0., 0., 0., 0., 0., 0., 0., 0., 0.],\n",
              "       [0., 0., 0., 0., 1., 0., 0., 0., 0., 0.],\n",
              "       [0., 1., 0., 0., 0., 0., 0., 0., 0., 0.],\n",
              "       [0., 0., 0., 0., 0., 0., 0., 0., 0., 1.],\n",
              "       [0., 0., 1., 0., 0., 0., 0., 0., 0., 0.],\n",
              "       [0., 1., 0., 0., 0., 0., 0., 0., 0., 0.],\n",
              "       [0., 0., 0., 1., 0., 0., 0., 0., 0., 0.],\n",
              "       [0., 1., 0., 0., 0., 0., 0., 0., 0., 0.],\n",
              "       [0., 0., 0., 0., 1., 0., 0., 0., 0., 0.]], dtype=float32)"
            ]
          },
          "metadata": {},
          "execution_count": 18
        }
      ]
    },
    {
      "cell_type": "markdown",
      "source": [
        "## Reshaping İşlemi"
      ],
      "metadata": {
        "id": "Ei0JwoTggPYZ"
      }
    },
    {
      "cell_type": "code",
      "source": [
        "image_size = x_train.shape[1]\n",
        "image_size"
      ],
      "metadata": {
        "colab": {
          "base_uri": "https://localhost:8080/"
        },
        "id": "62VoTaLSboZb",
        "outputId": "19e32d93-d353-4af1-a04b-7ced113288e9"
      },
      "execution_count": 22,
      "outputs": [
        {
          "output_type": "execute_result",
          "data": {
            "text/plain": [
              "28"
            ]
          },
          "metadata": {},
          "execution_count": 22
        }
      ]
    },
    {
      "cell_type": "code",
      "source": [
        "print(f\"x_train boyutu : {x_train.shape}\")\n",
        "print(f\"x_test boyutu : {x_test.shape}\")"
      ],
      "metadata": {
        "colab": {
          "base_uri": "https://localhost:8080/"
        },
        "id": "0n1ByEOQboWf",
        "outputId": "f72911bb-156b-4c31-a3df-f0d12aec370e"
      },
      "execution_count": 23,
      "outputs": [
        {
          "output_type": "stream",
          "name": "stdout",
          "text": [
            "x_train boyutu : (60000, 28, 28)\n",
            "x_test boyutu : (10000, 28, 28)\n"
          ]
        }
      ]
    },
    {
      "cell_type": "code",
      "source": [
        "x_train = x_train.reshape(x_train.shape[0], 28, 28, 1)\n",
        "x_test = x_test.reshape(x_test.shape[0], 28, 28, 1)\n",
        "print(f\"x_train boyutu : {x_train.shape}\")\n",
        "print(f\"x_test boyutu : {x_test.shape}\")"
      ],
      "metadata": {
        "colab": {
          "base_uri": "https://localhost:8080/"
        },
        "id": "R454Rd3OboQs",
        "outputId": "454b7e6e-6c3f-4ad3-b9cf-b76dc8a9d69a"
      },
      "execution_count": 24,
      "outputs": [
        {
          "output_type": "stream",
          "name": "stdout",
          "text": [
            "x_train boyutu : (60000, 28, 28, 1)\n",
            "x_test boyutu : (10000, 28, 28, 1)\n"
          ]
        }
      ]
    },
    {
      "cell_type": "markdown",
      "source": [
        "# Standardization İşlemi"
      ],
      "metadata": {
        "id": "AbBywhSEhLES"
      }
    },
    {
      "cell_type": "code",
      "source": [
        "x_train = x_train.astype(\"float32\") / 255\n",
        "x_test = x_test.astype(\"float32\") / 255"
      ],
      "metadata": {
        "id": "QJ9IQOpsboNQ"
      },
      "execution_count": 25,
      "outputs": []
    },
    {
      "cell_type": "markdown",
      "source": [
        "# Modelleme"
      ],
      "metadata": {
        "id": "dVSh3p8Khdo7"
      }
    },
    {
      "cell_type": "markdown",
      "source": [
        "## Sinir Ağır Mimarisini Tanımlama"
      ],
      "metadata": {
        "id": "2DNqHzEphi0Y"
      }
    },
    {
      "cell_type": "code",
      "source": [
        "#Dış özellikler\n",
        "model = tf.keras.Sequential([\n",
        "    Flatten(input_shape=(28,28,1)),\n",
        "    Dense(units=128, activation=\"relu\", name=\"layer1\"),\n",
        "    Dense(units=num_labels, activation=\"softmax\", name=\"output_layer\")])\n",
        "#İç Özellikler\n",
        "model.compile(loss=\"categorical_crossentropy\",\n",
        "              optimizer=\"adam\",\n",
        "              metrics=[tf.keras.metrics.Precision(), tf.keras.metrics.Recall(), \"accuracy\"])\n",
        "\n"
      ],
      "metadata": {
        "id": "_SjrlCxOboKH"
      },
      "execution_count": 26,
      "outputs": []
    },
    {
      "cell_type": "code",
      "source": [
        "model.summary()"
      ],
      "metadata": {
        "colab": {
          "base_uri": "https://localhost:8080/"
        },
        "id": "-7dk7eeJboHP",
        "outputId": "a48edc8b-c6e0-41a6-fc2c-301b9c240155"
      },
      "execution_count": 27,
      "outputs": [
        {
          "output_type": "stream",
          "name": "stdout",
          "text": [
            "Model: \"sequential\"\n",
            "_________________________________________________________________\n",
            " Layer (type)                Output Shape              Param #   \n",
            "=================================================================\n",
            " flatten (Flatten)           (None, 784)               0         \n",
            "                                                                 \n",
            " layer1 (Dense)              (None, 128)               100480    \n",
            "                                                                 \n",
            " output_layer (Dense)        (None, 10)                1290      \n",
            "                                                                 \n",
            "=================================================================\n",
            "Total params: 101770 (397.54 KB)\n",
            "Trainable params: 101770 (397.54 KB)\n",
            "Non-trainable params: 0 (0.00 Byte)\n",
            "_________________________________________________________________\n"
          ]
        }
      ]
    },
    {
      "cell_type": "code",
      "source": [
        "model.fit(x_train, y_train, epochs=10, batch_size=128, validation_data=(x_test, y_test))"
      ],
      "metadata": {
        "colab": {
          "base_uri": "https://localhost:8080/"
        },
        "id": "SyBYiZIqboEK",
        "outputId": "9d56c812-3632-4288-c87a-33fe33857d50"
      },
      "execution_count": 28,
      "outputs": [
        {
          "output_type": "stream",
          "name": "stdout",
          "text": [
            "Epoch 1/10\n",
            "469/469 [==============================] - 3s 5ms/step - loss: 0.3575 - precision: 0.9468 - recall: 0.8498 - accuracy: 0.9023 - val_loss: 0.1951 - val_precision: 0.9592 - val_recall: 0.9322 - val_accuracy: 0.9445\n",
            "Epoch 2/10\n",
            "469/469 [==============================] - 2s 4ms/step - loss: 0.1660 - precision: 0.9643 - recall: 0.9413 - accuracy: 0.9527 - val_loss: 0.1347 - val_precision: 0.9685 - val_recall: 0.9527 - val_accuracy: 0.9608\n",
            "Epoch 3/10\n",
            "469/469 [==============================] - 2s 4ms/step - loss: 0.1183 - precision: 0.9735 - recall: 0.9584 - accuracy: 0.9658 - val_loss: 0.1111 - val_precision: 0.9733 - val_recall: 0.9613 - val_accuracy: 0.9670\n",
            "Epoch 4/10\n",
            "469/469 [==============================] - 3s 6ms/step - loss: 0.0910 - precision: 0.9792 - recall: 0.9689 - accuracy: 0.9743 - val_loss: 0.1008 - val_precision: 0.9744 - val_recall: 0.9636 - val_accuracy: 0.9691\n",
            "Epoch 5/10\n",
            "469/469 [==============================] - 2s 4ms/step - loss: 0.0739 - precision: 0.9827 - recall: 0.9745 - accuracy: 0.9785 - val_loss: 0.0916 - val_precision: 0.9756 - val_recall: 0.9669 - val_accuracy: 0.9716\n",
            "Epoch 6/10\n",
            "469/469 [==============================] - 2s 4ms/step - loss: 0.0597 - precision: 0.9859 - recall: 0.9800 - accuracy: 0.9831 - val_loss: 0.0780 - val_precision: 0.9787 - val_recall: 0.9723 - val_accuracy: 0.9747\n",
            "Epoch 7/10\n",
            "469/469 [==============================] - 2s 4ms/step - loss: 0.0499 - precision: 0.9885 - recall: 0.9836 - accuracy: 0.9857 - val_loss: 0.0755 - val_precision: 0.9801 - val_recall: 0.9753 - val_accuracy: 0.9775\n",
            "Epoch 8/10\n",
            "469/469 [==============================] - 2s 4ms/step - loss: 0.0424 - precision: 0.9900 - recall: 0.9861 - accuracy: 0.9881 - val_loss: 0.0739 - val_precision: 0.9801 - val_recall: 0.9741 - val_accuracy: 0.9769\n",
            "Epoch 9/10\n",
            "469/469 [==============================] - 2s 4ms/step - loss: 0.0352 - precision: 0.9916 - recall: 0.9884 - accuracy: 0.9898 - val_loss: 0.0741 - val_precision: 0.9804 - val_recall: 0.9763 - val_accuracy: 0.9781\n",
            "Epoch 10/10\n",
            "469/469 [==============================] - 3s 6ms/step - loss: 0.0300 - precision: 0.9933 - recall: 0.9906 - accuracy: 0.9917 - val_loss: 0.0720 - val_precision: 0.9807 - val_recall: 0.9757 - val_accuracy: 0.9778\n"
          ]
        },
        {
          "output_type": "execute_result",
          "data": {
            "text/plain": [
              "<keras.src.callbacks.History at 0x7fd6c4a70f10>"
            ]
          },
          "metadata": {},
          "execution_count": 28
        }
      ]
    },
    {
      "cell_type": "markdown",
      "source": [
        "# Model Başarısını Değerlendirme"
      ],
      "metadata": {
        "id": "3dHOMklOjv26"
      }
    },
    {
      "cell_type": "code",
      "source": [
        "history = model.fit(x_train, y_train, epochs=10, batch_size=128, validation_data=(x_test, y_test))"
      ],
      "metadata": {
        "colab": {
          "base_uri": "https://localhost:8080/"
        },
        "id": "i3z3eLhUbn-L",
        "outputId": "7f6579bd-30d9-418c-be9d-d8325e597ecb"
      },
      "execution_count": 30,
      "outputs": [
        {
          "output_type": "stream",
          "name": "stdout",
          "text": [
            "Epoch 1/10\n",
            "469/469 [==============================] - 2s 4ms/step - loss: 0.0257 - precision: 0.9943 - recall: 0.9922 - accuracy: 0.9932 - val_loss: 0.0742 - val_precision: 0.9799 - val_recall: 0.9749 - val_accuracy: 0.9766\n",
            "Epoch 2/10\n",
            "469/469 [==============================] - 2s 4ms/step - loss: 0.0223 - precision: 0.9950 - recall: 0.9934 - accuracy: 0.9941 - val_loss: 0.0727 - val_precision: 0.9806 - val_recall: 0.9771 - val_accuracy: 0.9790\n",
            "Epoch 3/10\n",
            "469/469 [==============================] - 2s 4ms/step - loss: 0.0180 - precision: 0.9961 - recall: 0.9948 - accuracy: 0.9955 - val_loss: 0.0733 - val_precision: 0.9807 - val_recall: 0.9777 - val_accuracy: 0.9792\n",
            "Epoch 4/10\n",
            "469/469 [==============================] - 2s 5ms/step - loss: 0.0149 - precision: 0.9970 - recall: 0.9959 - accuracy: 0.9964 - val_loss: 0.0758 - val_precision: 0.9804 - val_recall: 0.9773 - val_accuracy: 0.9789\n",
            "Epoch 5/10\n",
            "469/469 [==============================] - 2s 5ms/step - loss: 0.0130 - precision: 0.9974 - recall: 0.9964 - accuracy: 0.9969 - val_loss: 0.0789 - val_precision: 0.9793 - val_recall: 0.9761 - val_accuracy: 0.9777\n",
            "Epoch 6/10\n",
            "469/469 [==============================] - 2s 4ms/step - loss: 0.0113 - precision: 0.9980 - recall: 0.9974 - accuracy: 0.9977 - val_loss: 0.0772 - val_precision: 0.9804 - val_recall: 0.9783 - val_accuracy: 0.9785\n",
            "Epoch 7/10\n",
            "469/469 [==============================] - 2s 4ms/step - loss: 0.0096 - precision: 0.9984 - recall: 0.9979 - accuracy: 0.9982 - val_loss: 0.0788 - val_precision: 0.9809 - val_recall: 0.9781 - val_accuracy: 0.9791\n",
            "Epoch 8/10\n",
            "469/469 [==============================] - 2s 4ms/step - loss: 0.0082 - precision: 0.9985 - recall: 0.9981 - accuracy: 0.9983 - val_loss: 0.0795 - val_precision: 0.9811 - val_recall: 0.9792 - val_accuracy: 0.9797\n",
            "Epoch 9/10\n",
            "469/469 [==============================] - 2s 4ms/step - loss: 0.0077 - precision: 0.9984 - recall: 0.9981 - accuracy: 0.9983 - val_loss: 0.0837 - val_precision: 0.9807 - val_recall: 0.9788 - val_accuracy: 0.9798\n",
            "Epoch 10/10\n",
            "469/469 [==============================] - 3s 5ms/step - loss: 0.0062 - precision: 0.9991 - recall: 0.9989 - accuracy: 0.9990 - val_loss: 0.0853 - val_precision: 0.9805 - val_recall: 0.9785 - val_accuracy: 0.9793\n"
          ]
        }
      ]
    },
    {
      "cell_type": "code",
      "source": [
        "loss, precision, recall, acc=model.evaluate(x_test, y_test, verbose=True)\n",
        "print(\"\\nTest Accuracy: %.1f%%\" % (100.0 * acc))\n",
        "print(\"\\nTest Loss: %.1f%%\" % (100.0 * loss))\n",
        "print(\"\\nTest Precision: %.1f%%\" % (100.0 * precision))\n",
        "print(\"\\nTest Recall: %.1f%%\" % (100.0 * recall))"
      ],
      "metadata": {
        "colab": {
          "base_uri": "https://localhost:8080/"
        },
        "id": "BomzV_Q3bn7J",
        "outputId": "7b876550-03f4-44f6-849d-afb0c5dd842a"
      },
      "execution_count": 31,
      "outputs": [
        {
          "output_type": "stream",
          "name": "stdout",
          "text": [
            "313/313 [==============================] - 1s 2ms/step - loss: 0.0853 - precision: 0.9805 - recall: 0.9785 - accuracy: 0.9793\n",
            "\n",
            "Test Accuracy: 97.9%\n",
            "\n",
            "Test Loss: 8.5%\n",
            "\n",
            "Test Precision: 98.0%\n",
            "\n",
            "Test Recall: 97.9%\n"
          ]
        }
      ]
    },
    {
      "cell_type": "markdown",
      "source": [
        "# Modelin Kaydedilmesi ve Tahmin İşlemi"
      ],
      "metadata": {
        "id": "dF_5xv2UkPum"
      }
    },
    {
      "cell_type": "code",
      "source": [
        "model.save(\"mnist_model.h5\")"
      ],
      "metadata": {
        "id": "Gkuw-yngbn4K"
      },
      "execution_count": 32,
      "outputs": []
    },
    {
      "cell_type": "code",
      "source": [
        "import random\n",
        "random = random.randint(0, x_test.shape[0])"
      ],
      "metadata": {
        "id": "zipYCLhFbn1p"
      },
      "execution_count": 34,
      "outputs": []
    },
    {
      "cell_type": "code",
      "source": [
        "random"
      ],
      "metadata": {
        "colab": {
          "base_uri": "https://localhost:8080/"
        },
        "id": "OHyPKAH5bnyc",
        "outputId": "a9f75f9f-8801-4a50-da57-b816acdcc9f4"
      },
      "execution_count": 35,
      "outputs": [
        {
          "output_type": "execute_result",
          "data": {
            "text/plain": [
              "5690"
            ]
          },
          "metadata": {},
          "execution_count": 35
        }
      ]
    },
    {
      "cell_type": "code",
      "source": [
        "test_image = x_test[random]"
      ],
      "metadata": {
        "id": "wr2HZeNEbnvt"
      },
      "execution_count": 36,
      "outputs": []
    },
    {
      "cell_type": "code",
      "source": [
        "plt.imshow(x_test[random], cmap=\"gray\")"
      ],
      "metadata": {
        "colab": {
          "base_uri": "https://localhost:8080/",
          "height": 447
        },
        "id": "xS4-uOb6bnss",
        "outputId": "43b9ee7d-89c9-4f7f-db42-a27bcdfe6381"
      },
      "execution_count": 37,
      "outputs": [
        {
          "output_type": "execute_result",
          "data": {
            "text/plain": [
              "<matplotlib.image.AxesImage at 0x7fd6a02da980>"
            ]
          },
          "metadata": {},
          "execution_count": 37
        },
        {
          "output_type": "display_data",
          "data": {
            "text/plain": [
              "<Figure size 640x480 with 1 Axes>"
            ],
            "image/png": "[encoded data removed]"
          },
          "metadata": {}
        }
      ]
    },
    {
      "cell_type": "code",
      "source": [
        "test_data = x_test[random].reshape(1,28,28,1)"
      ],
      "metadata": {
        "id": "C70kMhvHbnpn"
      },
      "execution_count": 38,
      "outputs": []
    },
    {
      "cell_type": "code",
      "source": [
        "probability = model.predict(test_data)"
      ],
      "metadata": {
        "colab": {
          "base_uri": "https://localhost:8080/"
        },
        "id": "URgXHiIkbnmz",
        "outputId": "76238374-ba81-4d3b-d3f0-392e64a05c61"
      },
      "execution_count": 39,
      "outputs": [
        {
          "output_type": "stream",
          "name": "stdout",
          "text": [
            "1/1 [==============================] - 0s 173ms/step\n"
          ]
        }
      ]
    },
    {
      "cell_type": "code",
      "source": [
        "probability"
      ],
      "metadata": {
        "colab": {
          "base_uri": "https://localhost:8080/"
        },
        "id": "-zEiMpNnbnj_",
        "outputId": "0bd633ce-1637-4b99-c292-d02d7f7454ff"
      },
      "execution_count": 40,
      "outputs": [
        {
          "output_type": "execute_result",
          "data": {
            "text/plain": [
              "array([[8.2851824e-13, 5.7146978e-16, 3.0931373e-09, 2.9946304e-15,\n",
              "        1.1295784e-09, 4.7427863e-16, 1.0000000e+00, 2.1916132e-14,\n",
              "        1.4412709e-13, 1.0326249e-16]], dtype=float32)"
            ]
          },
          "metadata": {},
          "execution_count": 40
        }
      ]
    },
    {
      "cell_type": "code",
      "source": [
        "predict_classes = np.argmax(probability)"
      ],
      "metadata": {
        "id": "-6N3vB5pbnhO"
      },
      "execution_count": 41,
      "outputs": []
    },
    {
      "cell_type": "code",
      "source": [
        "predict_classes"
      ],
      "metadata": {
        "colab": {
          "base_uri": "https://localhost:8080/"
        },
        "id": "-1DWUR5BbneN",
        "outputId": "6057c78d-a64d-4847-df69-b3a5879546f6"
      },
      "execution_count": 42,
      "outputs": [
        {
          "output_type": "execute_result",
          "data": {
            "text/plain": [
              "6"
            ]
          },
          "metadata": {},
          "execution_count": 42
        }
      ]
    },
    {
      "cell_type": "code",
      "source": [
        "y_test[random]"
      ],
      "metadata": {
        "colab": {
          "base_uri": "https://localhost:8080/"
        },
        "id": "uZuabSlqbnbY",
        "outputId": "85fa7f8e-62e3-40ef-cb9e-4e6e73f204bf"
      },
      "execution_count": 43,
      "outputs": [
        {
          "output_type": "execute_result",
          "data": {
            "text/plain": [
              "array([0., 0., 0., 0., 0., 0., 1., 0., 0., 0.], dtype=float32)"
            ]
          },
          "metadata": {},
          "execution_count": 43
        }
      ]
    },
    {
      "cell_type": "markdown",
      "source": [
        "Bu array değeri 6 sayısına denk gelmektedir. Yani model tahmini başarılıdır."
      ],
      "metadata": {
        "id": "Xb_ZMv-6lkBT"
      }
    },
    {
      "cell_type": "code",
      "source": [],
      "metadata": {
        "id": "GHfz2kRSlf6k"
      },
      "execution_count": 43,
      "outputs": []
    }
  ]
}